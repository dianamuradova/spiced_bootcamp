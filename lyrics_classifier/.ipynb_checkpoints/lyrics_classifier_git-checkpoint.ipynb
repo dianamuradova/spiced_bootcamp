{
 "cells": [
  {
   "cell_type": "code",
   "execution_count": 1,
   "metadata": {},
   "outputs": [],
   "source": [
    "import requests\n",
    "from bs4 import BeautifulSoup as soup\n",
    "import pandas as pd\n",
    "import re\n",
    "import numpy as np\n",
    "import spacy\n",
    "from sklearn.model_selection import cross_val_score\n",
    "from sklearn.model_selection import train_test_split\n",
    "from sklearn.feature_extraction.text import CountVectorizer\n",
    "from sklearn.feature_extraction.text import TfidfTransformer\n",
    "from sklearn.naive_bayes import MultinomialNB\n"
   ]
  },
  {
   "cell_type": "code",
   "execution_count": 2,
   "metadata": {},
   "outputs": [],
   "source": [
    "#given the artist's main metrolyrics html page, the function extracts lyrics of all the songs that are on the metrolyrics website for the artist \n",
    "def download_lyrics(html):  \n",
    "    list_of_links = []\n",
    "    individual_links = []\n",
    "    artist = (str(re.findall('com\\/.+\\.', html))[6:-10])\n",
    "    df = pd.DataFrame(columns = ['song', 'artist', 'song name']) \n",
    "    artist_page = requests.get(html)\n",
    "    artist_page_bs = soup(artist_page.text, 'html.parser')\n",
    "    links_all = artist_page_bs.find_all(attrs = {'class' : 'pagination'})\n",
    "    links_all_a = str(links_all[0].find_all('a'))\n",
    "    final_links = re.findall(f'http:\\/\\/www\\.metrolyrics\\.com\\/{artist}-alpage-.+html', links_all_a)\n",
    "    final_links = final_links[:-1]\n",
    "    \n",
    "\n",
    "    for i in final_links: #get all individual links for the artist \n",
    "        each_page = requests.get(i)\n",
    "        each_page_text = each_page.text\n",
    "        separate_links = re.findall(f'http:\\/\\/www\\.metrolyrics\\.com\\/.+lyrics-{artist}.html', each_page_text)\n",
    "        individual_links.append(separate_links)\n",
    "    all_links = [item for sublist in individual_links for item in sublist]  \n",
    "      \n",
    "    for i in all_links:\n",
    "        each_song = requests.get(i)\n",
    "        each_song_text = each_song.text\n",
    "        html = soup(each_song_text, 'html.parser')\n",
    "        results = html.find_all(attrs = {'id' : \"lyrics-body-text\"})\n",
    "        l = str([results[0].find_all('p')[i].text for i in range(len(results[0].find_all('p')))])\n",
    "        df = df.append({'song' : l, 'artist': artist, 'song name' : i}, ignore_index=True)\n",
    "    \n",
    "    return df\n",
    "    \n",
    "    "
   ]
  },
  {
   "cell_type": "code",
   "execution_count": 3,
   "metadata": {},
   "outputs": [
    {
     "data": {
      "text/plain": [
       "281"
      ]
     },
     "execution_count": 3,
     "metadata": {},
     "output_type": "execute_result"
    }
   ],
   "source": [
    "df_taylorswift = download_lyrics('http://www.metrolyrics.com/taylor-swift-lyrics.html')\n",
    "df_lana_del_rey = download_lyrics('http://www.metrolyrics.com/lana-del-rey-lyrics.html')\n",
    "df_maroon_5 = download_lyrics('http://www.metrolyrics.com/maroon-5-lyrics.html')\n",
    "\n",
    "complete_df = df_taylorswift.append(df_lana_del_rey, ignore_index=True)\n",
    "complete_df = complete_df.append(df_maroon_5, ignore_index = True)"
   ]
  },
  {
   "cell_type": "code",
   "execution_count": 4,
   "metadata": {},
   "outputs": [],
   "source": [
    "#this section cleans the generated lyrics\n",
    "\n",
    "pattern = r'\\[|\\]' #remove the start of the list []\n",
    "clean_list = []\n",
    "\n",
    "for i in complete_df['song']: \n",
    "    new = re.sub(pattern, '', i)\n",
    "    clean_list.append(new)\n",
    "\n",
    "final_lyrics = [] #replace the start of the string\n",
    "for i in clean_list:\n",
    "    new = i.replace('\"', \"'\")\n",
    "    new1 = new.strip()\n",
    "    final_lyrics.append(new1)    \n",
    "\n",
    "new_pattern = r'\\\\n' #replace new line with blank \n",
    "cleanest_list = []\n",
    "for i in final_lyrics:\n",
    "    new = re.sub(new_pattern, ' ', i)\n",
    "    cleanest_list.append(new)\n",
    "    \n",
    "new_pattern = r'\\\\' #remove \\\\ \n",
    "the_final_lyrics = []\n",
    "for i in cleanest_list:\n",
    "    new = re.sub(new_pattern,'', i)\n",
    "    the_final_lyrics.append(new)  \n",
    "    \n",
    "new_pattern = r'âx80x94|âx80|âx80x92|âx80x94|ãx88|' #remove random characters \n",
    "my_lyrics = []\n",
    "for i in the_final_lyrics:\n",
    "    new = re.sub(new_pattern,'', i)\n",
    "    my_lyrics .append(new)      \n",
    "    "
   ]
  },
  {
   "cell_type": "code",
   "execution_count": 5,
   "metadata": {},
   "outputs": [],
   "source": [
    "#this section uses spacy to lemmatize the lyrics \n",
    "\n",
    "nlp = spacy.load('en_core_web_sm') \n",
    "\n",
    "corpus = my_lyrics\n",
    "tokenized_corpus = []\n",
    "for each in corpus:\n",
    "    tokens = nlp(each)\n",
    "    tokenized_corpus.append(tokens)\n",
    "\n",
    "final_lemma = []\n",
    "for i in tokenized_corpus:\n",
    "    intermediate_list = []\n",
    "    for word in i: \n",
    "        if not word.is_stop:\n",
    "            intermediate_list.append(word.lemma_)\n",
    "    final_lemma.append(' '.join(intermediate_list))    "
   ]
  },
  {
   "cell_type": "code",
   "execution_count": 6,
   "metadata": {},
   "outputs": [],
   "source": [
    "y =['Taylor Swift'] * len(df_taylorswift) + ['Lana Del Rey'] * len(df_lana_del_rey) + ['Maroon 5'] * len(df_maroon_5) \n"
   ]
  },
  {
   "cell_type": "code",
   "execution_count": 7,
   "metadata": {},
   "outputs": [],
   "source": [
    "df_before_split = pd.DataFrame({'lyrics' : final_lemma, 'artist' : y})\n",
    "\n",
    "df_before_split['artist'].value_counts() \n",
    "\n",
    "#there is inbalance of classes, hence decided to upscale \n",
    "\n",
    "maximum = df_before_split['artist'].value_counts().max()\n",
    "\n",
    "for la in df_before_split['artist'].value_counts().index:\n",
    "    label_df = df_before_split[df_before_split['artist'] == la]\n",
    "    diff = maximum - len(label_df)\n",
    "    df_before_split = df_before_split.append(label_df.sample(diff))\n"
   ]
  },
  {
   "cell_type": "code",
   "execution_count": 8,
   "metadata": {},
   "outputs": [],
   "source": [
    "X = df_before_split['lyrics']\n",
    "y = df_before_split['artist']\n",
    "X_train, X_test, y_train, y_test = train_test_split(X, y)"
   ]
  },
  {
   "cell_type": "code",
   "execution_count": 9,
   "metadata": {},
   "outputs": [],
   "source": [
    "cv = CountVectorizer(stop_words = 'english')\n",
    "out = cv.fit_transform(X_train)\n",
    "df = pd.DataFrame(out.todense(), columns = cv.get_feature_names()) "
   ]
  },
  {
   "cell_type": "code",
   "execution_count": 10,
   "metadata": {},
   "outputs": [],
   "source": [
    "tf = TfidfTransformer()\n",
    "transformed = tf.fit_transform(out) #convert the original sparse matrix to the TfidTransformer \n",
    "tdf = pd.DataFrame(transformed.todense(), columns=cv.get_feature_names()) "
   ]
  },
  {
   "cell_type": "code",
   "execution_count": 11,
   "metadata": {},
   "outputs": [],
   "source": [
    "X_train_transformed = tdf.values"
   ]
  },
  {
   "cell_type": "code",
   "execution_count": 20,
   "metadata": {},
   "outputs": [
    {
     "name": "stdout",
     "output_type": "stream",
     "text": [
      "Training accuracy score: 0.8434782608695652\n"
     ]
    }
   ],
   "source": [
    "m = MultinomialNB(alpha = 2.0) \n",
    "m.fit(X_train_transformed, y_train)\n",
    "training_accuracy_score = m.score(X_train_transformed, y_train) \n",
    "print('Training accuracy score:', training_accuracy_score)"
   ]
  },
  {
   "cell_type": "code",
   "execution_count": 22,
   "metadata": {},
   "outputs": [
    {
     "name": "stdout",
     "output_type": "stream",
     "text": [
      "Mean of accuracy scores: 0.6841451117113291\n",
      "Scores array: [0.61870504 0.69565217 0.75362319 0.67391304 0.67883212]\n"
     ]
    }
   ],
   "source": [
    "#cross_validation_Scores\n",
    "acc = cross_val_score(m, X_train_transformed, y_train, cv = 5)\n",
    "\n",
    "print(\"Mean of accuracy scores:\", acc.mean())\n",
    "print(\"Scores array:\", acc)"
   ]
  },
  {
   "cell_type": "code",
   "execution_count": 23,
   "metadata": {},
   "outputs": [],
   "source": [
    "cv_test = cv.transform(X_test)\n",
    "tfcounts_test = tf.transform(cv_test)\n",
    "tf_test = pd.DataFrame(tfcounts_test.todense(), columns=cv.get_feature_names()) \n",
    "X_test_transformed = tf_test.values"
   ]
  },
  {
   "cell_type": "code",
   "execution_count": 24,
   "metadata": {},
   "outputs": [],
   "source": [
    "predictions = m.predict(X_test_transformed)"
   ]
  },
  {
   "cell_type": "code",
   "execution_count": 27,
   "metadata": {},
   "outputs": [
    {
     "name": "stdout",
     "output_type": "stream",
     "text": [
      "Testing accuracy score: 0.683982683982684\n"
     ]
    }
   ],
   "source": [
    "testing_accuracy_score = m.score(X_test_transformed, y_test)\n",
    "\n",
    "print(\"Testing accuracy score:\", testing_accuracy_score)"
   ]
  },
  {
   "cell_type": "code",
   "execution_count": 29,
   "metadata": {},
   "outputs": [
    {
     "data": {
      "text/plain": [
       "(array(['Lana Del Rey'], dtype='<U12'), array([[0.52, 0.29, 0.2 ]]))"
      ]
     },
     "execution_count": 29,
     "metadata": {},
     "output_type": "execute_result"
    }
   ],
   "source": [
    "song = [\"I want summertime play\"]\n",
    "counts = cv.transform(song)\n",
    "tfcounts = tf.transform(counts)\n",
    "tfcounts.todense()\n",
    "m.predict(tfcounts), m.predict_proba(tfcounts).round(2)\n",
    "\n",
    "#predicts Lana Del Rey "
   ]
  },
  {
   "cell_type": "code",
   "execution_count": 30,
   "metadata": {},
   "outputs": [
    {
     "data": {
      "text/plain": [
       "(array(['Taylor Swift'], dtype='<U12'), array([[0.27, 0.28, 0.45]]))"
      ]
     },
     "execution_count": 30,
     "metadata": {},
     "output_type": "execute_result"
    }
   ],
   "source": [
    "song_2 = [\"Christmas photographs fall\"]\n",
    "counts = cv.transform(song_2)\n",
    "tfcounts = tf.transform(counts)\n",
    "m.predict(tfcounts), m.predict_proba(tfcounts).round(2)\n",
    "\n",
    "#predicts Taylor Swift "
   ]
  },
  {
   "cell_type": "code",
   "execution_count": null,
   "metadata": {},
   "outputs": [],
   "source": []
  }
 ],
 "metadata": {
  "kernelspec": {
   "display_name": "Python 3",
   "language": "python",
   "name": "python3"
  },
  "language_info": {
   "codemirror_mode": {
    "name": "ipython",
    "version": 3
   },
   "file_extension": ".py",
   "mimetype": "text/x-python",
   "name": "python",
   "nbconvert_exporter": "python",
   "pygments_lexer": "ipython3",
   "version": "3.7.3"
  }
 },
 "nbformat": 4,
 "nbformat_minor": 4
}
